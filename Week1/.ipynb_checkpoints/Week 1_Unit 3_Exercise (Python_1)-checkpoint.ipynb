{
 "cells": [
  {
   "cell_type": "code",
   "execution_count": 1,
   "id": "8726d6b9",
   "metadata": {},
   "outputs": [
    {
     "name": "stdout",
     "output_type": "stream",
     "text": [
      "Enter your name: Aaron\n",
      "Enter the start city: Cincinnati\n",
      "Enter the destination city: Boston\n",
      "Enter the means of transportation: car\n",
      "Aaron wants to travel from Cincinnati to Boston by car.\n"
     ]
    }
   ],
   "source": [
    "def travel_planner():\n",
    "    name = input(\"Enter your name: \")\n",
    "    start_city = input(\"Enter the start city: \")\n",
    "    destination_city = input(\"Enter the destination city: \")\n",
    "    means_of_transportation = input(\"Enter the means of transportation: \")\n",
    "\n",
    "    print(f\"{name} wants to travel from {start_city} to {destination_city} by {means_of_transportation}.\")\n",
    "\n",
    "\n",
    "travel_planner()\n"
   ]
  },
  {
   "cell_type": "code",
   "execution_count": null,
   "id": "3169c9e4",
   "metadata": {},
   "outputs": [],
   "source": []
  }
 ],
 "metadata": {
  "kernelspec": {
   "display_name": "Python 3 (ipykernel)",
   "language": "python",
   "name": "python3"
  },
  "language_info": {
   "codemirror_mode": {
    "name": "ipython",
    "version": 3
   },
   "file_extension": ".py",
   "mimetype": "text/x-python",
   "name": "python",
   "nbconvert_exporter": "python",
   "pygments_lexer": "ipython3",
   "version": "3.10.9"
  }
 },
 "nbformat": 4,
 "nbformat_minor": 5
}
