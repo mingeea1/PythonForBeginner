{
 "cells": [
  {
   "cell_type": "code",
   "execution_count": 1,
   "id": "d13d8df0",
   "metadata": {},
   "outputs": [
    {
     "name": "stdout",
     "output_type": "stream",
     "text": [
      "Please enter the first number:11\n",
      "Please enter the second number:44\n",
      "Please enter the third number:79\n",
      "The largest number is 79\n"
     ]
    }
   ],
   "source": [
    "def find_largest_number():\n",
    "    num1 = int(input(\"Please enter the first number:\"))\n",
    "    num2 = int(input(\"Please enter the second number:\"))\n",
    "    num3 = int(input(\"Please enter the third number:\"))\n",
    "\n",
    "    largest_number = max(num1, num2, num3)\n",
    "\n",
    "    print(\"The largest number is \"+ str(largest_number))\n",
    "\n",
    "\n",
    "find_largest_number()\n"
   ]
  },
  {
   "cell_type": "code",
   "execution_count": null,
   "id": "a1ca6919",
   "metadata": {},
   "outputs": [],
   "source": []
  }
 ],
 "metadata": {
  "kernelspec": {
   "display_name": "Python 3 (ipykernel)",
   "language": "python",
   "name": "python3"
  },
  "language_info": {
   "codemirror_mode": {
    "name": "ipython",
    "version": 3
   },
   "file_extension": ".py",
   "mimetype": "text/x-python",
   "name": "python",
   "nbconvert_exporter": "python",
   "pygments_lexer": "ipython3",
   "version": "3.10.9"
  }
 },
 "nbformat": 4,
 "nbformat_minor": 5
}
